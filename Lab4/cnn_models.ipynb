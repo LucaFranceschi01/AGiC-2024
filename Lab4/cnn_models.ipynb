{
 "cells": [
  {
   "cell_type": "markdown",
   "metadata": {},
   "source": [
    "# Face Detection and Recognition CNN Models"
   ]
  },
  {
   "cell_type": "code",
   "execution_count": 88,
   "metadata": {},
   "outputs": [],
   "source": [
    "import numpy as np\n",
    "import torch\n",
    "from torch import nn\n",
    "import scipy.io\n",
    "from PIL import Image\n",
    "from torch.utils.data import Dataset, DataLoader\n",
    "from torchvision import transforms\n",
    "import torch.optim as optim\n",
    "import torch.jit\n",
    "import matplotlib.pyplot as plt\n",
    "from matplotlib import ticker\n",
    "\n",
    "# mirar diferencias entre estos dos y elegir uno\n",
    "from torch.utils.data import random_split\n",
    "from torchvision.transforms.functional import get_image_size"
   ]
  },
  {
   "cell_type": "code",
   "execution_count": 89,
   "metadata": {},
   "outputs": [
    {
     "name": "stdout",
     "output_type": "stream",
     "text": [
      "Using cpu device\n"
     ]
    }
   ],
   "source": [
    "device = (\n",
    "    \"cuda\"\n",
    "    if torch.cuda.is_available()\n",
    "    else \"mps\"\n",
    "    if torch.backends.mps.is_available()\n",
    "    else \"cpu\"\n",
    ")\n",
    "print(f\"Using {device} device\")"
   ]
  },
  {
   "cell_type": "code",
   "execution_count": 90,
   "metadata": {},
   "outputs": [],
   "source": [
    "# Hyperparameters\n",
    "lr = 0.001\n",
    "epoch_step = 5\n",
    "epochs = 20\n",
    "batch_size = 32 # o 16\n",
    "images_path = './TRAINING/'\n",
    "target_matrix_path = ''\n",
    "resized = (224, 224)"
   ]
  },
  {
   "cell_type": "markdown",
   "metadata": {},
   "source": [
    "## Loading the dataset"
   ]
  },
  {
   "cell_type": "code",
   "execution_count": 134,
   "metadata": {},
   "outputs": [],
   "source": [
    "class MyData(Dataset):\n",
    "    # the data is in the form [img_name, boundaries] or [img_name, identity]\n",
    "    def __init__(self, data, transform=None):\n",
    "        self.data = data\n",
    "        self.transform = transform\n",
    "\n",
    "    def __len__(self):\n",
    "        return len(self.data)\n",
    "\n",
    "    def __getitem__(self, idx):\n",
    "        image_name, label = self.data[idx]\n",
    "        with Image.open(images_path + image_name) as image:\n",
    "            # Apply transformations if specified\n",
    "            image = image.convert('RGB')\n",
    "            w, h = get_image_size(image)\n",
    "            if self.transform:\n",
    "                image = self.transform(image)\n",
    "            # image = torch.tensor(image, dtype=torch.float32)\n",
    "\n",
    "            label = [label[0]/w*resized[0], label[1]/h*resized[1], label[2]/w*resized[0], label[3]/h*resized[1]]\n",
    "            label = torch.tensor(label, dtype=torch.float32)\n",
    "            label = torch.flatten(label)\n",
    "            return image, label"
   ]
  },
  {
   "cell_type": "code",
   "execution_count": 135,
   "metadata": {},
   "outputs": [],
   "source": [
    "def load_data(labels_path, labels_wanted='boundaries'):\n",
    "    mat = scipy.io.loadmat(labels_path)['AGC_Challenge3_TRAINING'][0]\n",
    "    data = []\n",
    "    for entry in mat:\n",
    "        key = entry[1][0]\n",
    "        if (labels_wanted == 'boundaries'):\n",
    "            # label = np.array([0, 0, 0, 0], dtype=np.int32)\n",
    "            if (len(entry[2]) > 0):\n",
    "                label = np.array(entry[2][0], dtype=np.int32)\n",
    "                data.append([key, label])\n",
    "        elif (labels_wanted == 'identity'):\n",
    "            data.append([key, entry[0][0][0]])\n",
    "    return data"
   ]
  },
  {
   "cell_type": "code",
   "execution_count": 136,
   "metadata": {},
   "outputs": [],
   "source": [
    "# mean and std extracted from the train_dataset part of AGC_Challenge3_TRAINING\n",
    "def compute_mean_std(dataset):\n",
    "    all_pixels = []\n",
    "    for image_path, _ in dataset:\n",
    "        with Image.open(images_path + image_path) as image:\n",
    "            image_array = np.array(image)\n",
    "            all_pixels.append(image_array)\n",
    "\n",
    "    all_images = np.stack(all_pixels, axis=0)\n",
    "\n",
    "    mean = np.mean(all_images, axis=(0, 1, 2)) / 255.0\n",
    "    std_dev = np.std(all_images, axis=(0, 1, 2)) / 255.0\n",
    "\n",
    "    return mean, std_dev"
   ]
  },
  {
   "cell_type": "code",
   "execution_count": 137,
   "metadata": {},
   "outputs": [],
   "source": [
    "# transforms son copiados, revisar\n",
    "# calcular valores de mean y std del dataset para cada channel\n",
    "# o las de imagenet\n",
    "# flipping, cambios de colores, grayscale\n",
    "# contraste de saturacion \n",
    "# color spaces\n",
    "################\n",
    "\n",
    "all_data = load_data(target_matrix_path + 'AGC_Challenge3_Training.mat')\n",
    "train_data, val_data, test_data = random_split(all_data, [0.8, 0.1, 0.1], generator=torch.Generator().manual_seed(42))\n",
    "\n",
    "# train_mean, train_std = compute_mean_std(train_data)\n",
    "\n",
    "transform = transforms.Compose([\n",
    "    # transforms.Resize(300, 300),\n",
    "    transforms.RandomResizedCrop(resized),\n",
    "    # transforms.RandomHorizontalFlip(),\n",
    "    # transforms.RandomRotation(20),\n",
    "    transforms.ToTensor(),\n",
    "    # transforms.Normalize(mean=train_mean, std=train_std)\n",
    "    transforms.Normalize(mean=[0.485, 0.456, 0.406], std=[0.229, 0.224, 0.225])\n",
    "])\n",
    "\n",
    "transform_base = transforms.Compose([\n",
    "    transforms.Resize(resized),\n",
    "    transforms.ToTensor(),\n",
    "    transforms.Normalize(mean=[0.485, 0.456, 0.406], std=[0.229, 0.224, 0.225])\n",
    "])\n",
    "\n",
    "train_dataset = MyData(train_data, transform)\n",
    "val_dataset = MyData(val_data, transform)\n",
    "test_dataset = MyData(test_data, transform)\n",
    "\n",
    "batch_size = 32\n",
    "train_loader = DataLoader(train_dataset, batch_size=batch_size, shuffle=True)\n",
    "val_loader = DataLoader(val_dataset, batch_size=batch_size)\n",
    "test_loader = DataLoader(test_dataset, batch_size=batch_size)"
   ]
  },
  {
   "cell_type": "markdown",
   "metadata": {},
   "source": [
    "## The detection model"
   ]
  },
  {
   "cell_type": "code",
   "execution_count": 138,
   "metadata": {},
   "outputs": [],
   "source": [
    "class DetectionCNNModel(nn.Module):\n",
    "    def __init__(self):\n",
    "        super().__init__()\n",
    "        self.flatten = nn.Flatten()\n",
    "        self.cnn_layers = nn.Sequential(\n",
    "            nn.Conv2d(3, 8, kernel_size=3, stride=1, padding=1),\n",
    "            nn.BatchNorm2d(8),\n",
    "            nn.ReLU(inplace=True),\n",
    "            nn.MaxPool2d(kernel_size=2, stride=2),\n",
    "\n",
    "            nn.Conv2d(8, 16, kernel_size=3, stride=1, padding=1),\n",
    "            nn.BatchNorm2d(16),\n",
    "            nn.ReLU(inplace=True),\n",
    "            nn.MaxPool2d(kernel_size=2, stride=2),\n",
    "\n",
    "            nn.Conv2d(16, 32, kernel_size=3, stride=1, padding=1),\n",
    "            nn.BatchNorm2d(32),\n",
    "            nn.ReLU(inplace=True),\n",
    "            nn.MaxPool2d(kernel_size=2, stride=2)\n",
    "        )\n",
    "\n",
    "        self.fc_layers = nn.Sequential(\n",
    "            nn.Linear(25088, 16), # 128*8*8 or 128*3*4\n",
    "            nn.ReLU(inplace=True),\n",
    "            nn.Linear(16, 4)\n",
    "        )\n",
    "\n",
    "    def forward(self, data):\n",
    "        x = self.cnn_layers(data)\n",
    "        x = self.flatten(x) # before linear layer !!!\n",
    "        x = self.fc_layers(x)\n",
    "        return x\n",
    "\n",
    "    def fit(self, training_data, loss_fn, optimizer: optim.Optimizer): # cross entropy con softmax + adam\n",
    "        self.train()\n",
    "        total_loss = 0.0\n",
    "\n",
    "        for batch_data, target in training_data:\n",
    "            batch_data = batch_data.to(device)\n",
    "            target = target.to(device)\n",
    "\n",
    "            optimizer.zero_grad()\n",
    "            output = self.forward(batch_data)\n",
    "            loss = loss_fn(output, target)\n",
    "            loss.backward()\n",
    "            optimizer.step()\n",
    "\n",
    "            total_loss += loss.item()\n",
    "\n",
    "        return total_loss / len(training_data)\n",
    "\n",
    "        # for e in range(epochs):\n",
    "        #     epoch_loss = 0\n",
    "\n",
    "        #     if e % epoch_step == 0:\n",
    "        #         print(f'Epoch {e} has loss {epoch_loss / batch_size}')\n",
    "\n",
    "    def evaluate(self, validation_data, loss_fn): # unused by now\n",
    "        self.eval()\n",
    "        total_loss = 0.0\n",
    "\n",
    "        for batch_data, target in validation_data:\n",
    "            batch_data = batch_data.to(device)\n",
    "            target = target.to(device)\n",
    "            \n",
    "            output = self.forward(batch_data)\n",
    "            loss = loss_fn(output, target)\n",
    "\n",
    "            total_loss += loss.item()\n",
    "\n",
    "            # Compute accuracy\n",
    "            # _, predicted = torch.max(output, 1)\n",
    "            # total_predictions += labels.size(0)\n",
    "            # correct_predictions += (predicted == labels).sum().item()\n",
    "\n",
    "        # average_loss = total_loss / len(validation_data)\n",
    "        # accuracy = correct_predictions / total_predictions\n",
    "\n",
    "        return total_loss / len(validation_data)\n",
    "\n",
    "    def predict(self, test_image):\n",
    "        self.eval()\n",
    "        with torch.inference_mode(mode=True):\n",
    "            test_image = test_image.convert('RGB')\n",
    "            w, h = get_image_size(test_image)\n",
    "            test_image = transform_base(test_image)\n",
    "            test_image = torch.tensor(test_image, dtype=torch.float32)\n",
    "            output = self.forward(test_image.unsqueeze(0))[0]\n",
    "            print(output)\n",
    "            output = [output[0]*w/resized[0], output[1]*h/resized[1], output[2]*w/resized[0], output[3]*h/resized[1]]\n",
    "            print(output)\n",
    "            return output"
   ]
  },
  {
   "cell_type": "code",
   "execution_count": 139,
   "metadata": {},
   "outputs": [
    {
     "name": "stdout",
     "output_type": "stream",
     "text": [
      "DetectionCNNModel(\n",
      "  (flatten): Flatten(start_dim=1, end_dim=-1)\n",
      "  (cnn_layers): Sequential(\n",
      "    (0): Conv2d(3, 8, kernel_size=(3, 3), stride=(1, 1), padding=(1, 1))\n",
      "    (1): BatchNorm2d(8, eps=1e-05, momentum=0.1, affine=True, track_running_stats=True)\n",
      "    (2): ReLU(inplace=True)\n",
      "    (3): MaxPool2d(kernel_size=2, stride=2, padding=0, dilation=1, ceil_mode=False)\n",
      "    (4): Conv2d(8, 16, kernel_size=(3, 3), stride=(1, 1), padding=(1, 1))\n",
      "    (5): BatchNorm2d(16, eps=1e-05, momentum=0.1, affine=True, track_running_stats=True)\n",
      "    (6): ReLU(inplace=True)\n",
      "    (7): MaxPool2d(kernel_size=2, stride=2, padding=0, dilation=1, ceil_mode=False)\n",
      "    (8): Conv2d(16, 32, kernel_size=(3, 3), stride=(1, 1), padding=(1, 1))\n",
      "    (9): BatchNorm2d(32, eps=1e-05, momentum=0.1, affine=True, track_running_stats=True)\n",
      "    (10): ReLU(inplace=True)\n",
      "    (11): MaxPool2d(kernel_size=2, stride=2, padding=0, dilation=1, ceil_mode=False)\n",
      "  )\n",
      "  (fc_layers): Sequential(\n",
      "    (0): Linear(in_features=25088, out_features=16, bias=True)\n",
      "    (1): ReLU(inplace=True)\n",
      "    (2): Linear(in_features=16, out_features=4, bias=True)\n",
      "  )\n",
      ")\n"
     ]
    }
   ],
   "source": [
    "detection = DetectionCNNModel().to(device)\n",
    "print(detection)"
   ]
  },
  {
   "cell_type": "code",
   "execution_count": 140,
   "metadata": {},
   "outputs": [
    {
     "name": "stdout",
     "output_type": "stream",
     "text": [
      "407636\n"
     ]
    }
   ],
   "source": [
    "pytorch_total_params = sum(p.numel() for p in detection.parameters())\n",
    "print(pytorch_total_params)"
   ]
  },
  {
   "cell_type": "markdown",
   "metadata": {},
   "source": [
    "## Training loop"
   ]
  },
  {
   "cell_type": "code",
   "execution_count": 142,
   "metadata": {},
   "outputs": [
    {
     "name": "stdout",
     "output_type": "stream",
     "text": [
      "Epoch 0 has loss 483.6799621582031\n",
      "Epoch 5 has loss 479.493896484375\n",
      "Epoch 10 has loss 477.41383361816406\n",
      "Epoch 15 has loss 476.51007080078125\n"
     ]
    }
   ],
   "source": [
    "# train loop as train and then test\n",
    "loss = nn.CrossEntropyLoss()\n",
    "optimizer = optim.Adam(detection.parameters(), lr=lr)\n",
    "\n",
    "tr_losses = []\n",
    "val_losses = []\n",
    "for epoch in range(epochs):\n",
    "    epoch_loss = 0\n",
    "    tr_losses.append(detection.fit(train_loader, loss, optimizer))\n",
    "    val_losses.append(detection.evaluate(val_loader, loss))\n",
    "\n",
    "    if epoch % epoch_step == 0:\n",
    "        print(f'Epoch {epoch} has loss {val_losses[epoch]}')"
   ]
  },
  {
   "cell_type": "code",
   "execution_count": 143,
   "metadata": {},
   "outputs": [],
   "source": [
    "def loss_epoch_plot(losses, title='Loss vs training epochs', nbins='auto'):\n",
    "    ax = plt.figure().gca()\n",
    "    ax.xaxis.set_major_locator(ticker.MaxNLocator(nbins=nbins, integer=True))\n",
    "    ax.spines['top'].set_color('white') \n",
    "    ax.spines['right'].set_color('white')\n",
    "\n",
    "    plt.title(title)\n",
    "    plt.xlabel('Epochs')\n",
    "    plt.ylabel('Loss')\n",
    "\n",
    "    x = np.linspace(1, len(losses)+1, len(losses), dtype=np.uint16)\n",
    "    plt.plot(x, losses)\n",
    "    \n",
    "    plt.show()"
   ]
  },
  {
   "cell_type": "code",
   "execution_count": 144,
   "metadata": {},
   "outputs": [
    {
     "data": {
      "image/png": "[encoded data removed]",
      "text/plain": [
       "<Figure size 640x480 with 1 Axes>"
      ]
     },
     "metadata": {},
     "output_type": "display_data"
    }
   ],
   "source": [
    "loss_epoch_plot(tr_losses, \"Training loss vs epoch count\", epochs)"
   ]
  },
  {
   "cell_type": "code",
   "execution_count": 145,
   "metadata": {},
   "outputs": [
    {
     "data": {
      "image/png": "[encoded data removed]",
      "text/plain": [
       "<Figure size 640x480 with 1 Axes>"
      ]
     },
     "metadata": {},
     "output_type": "display_data"
    }
   ],
   "source": [
    "loss_epoch_plot(val_losses, \"Validation loss vs epoch count\", epochs)"
   ]
  },
  {
   "cell_type": "code",
   "execution_count": 146,
   "metadata": {},
   "outputs": [],
   "source": [
    "detection_scripted = torch.jit.script(detection)\n",
    "detection_scripted.save('detection_model.pt')"
   ]
  },
  {
   "cell_type": "code",
   "execution_count": 147,
   "metadata": {},
   "outputs": [
    {
     "name": "stdout",
     "output_type": "stream",
     "text": [
      "tensor([-0.2041, -0.6967,  0.5613,  0.3098])\n",
      "[tensor(-0.5687), tensor(-1.0295), tensor(1.5636), tensor(0.4577)]\n"
     ]
    },
    {
     "name": "stderr",
     "output_type": "stream",
     "text": [
      "/tmp/ipykernel_5293/1232605328.py:87: UserWarning: To copy construct from a tensor, it is recommended to use sourceTensor.clone().detach() or sourceTensor.clone().detach().requires_grad_(True), rather than torch.tensor(sourceTensor).\n",
      "  test_image = torch.tensor(test_image, dtype=torch.float32)\n"
     ]
    }
   ],
   "source": [
    "with Image.open(images_path + 'image_A0003.jpg') as image:\n",
    "    detection.predict(image)"
   ]
  },
  {
   "cell_type": "markdown",
   "metadata": {},
   "source": [
    "## The recognition model"
   ]
  },
  {
   "cell_type": "code",
   "execution_count": null,
   "metadata": {},
   "outputs": [],
   "source": [
    "# class RecognitionCNNModel(nn.Module):\n",
    "#     def __init__(self):\n",
    "#         super().__init__()\n",
    "#         self.flatten = nn.Flatten()\n",
    "\n",
    "# 2 linear layers\n",
    "# va a sacar un vector y hacer argmax\n",
    "# multimodal ??"
   ]
  },
  {
   "cell_type": "code",
   "execution_count": null,
   "metadata": {},
   "outputs": [],
   "source": [
    "# model = RecognitionCNNModel().to(device)\n",
    "# print(model)"
   ]
  },
  {
   "cell_type": "code",
   "execution_count": null,
   "metadata": {},
   "outputs": [],
   "source": [
    "# torch.save(model, 'recognition_model.pth') # not model.state_dict() because we want to store the class also"
   ]
  }
 ],
 "metadata": {
  "kernelspec": {
   "display_name": ".venv",
   "language": "python",
   "name": "python3"
  },
  "language_info": {
   "codemirror_mode": {
    "name": "ipython",
    "version": 3
   },
   "file_extension": ".py",
   "mimetype": "text/x-python",
   "name": "python",
   "nbconvert_exporter": "python",
   "pygments_lexer": "ipython3",
   "version": "3.12.1"
  }
 },
 "nbformat": 4,
 "nbformat_minor": 2
}
