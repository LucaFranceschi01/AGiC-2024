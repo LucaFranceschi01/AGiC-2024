{
 "cells": [
  {
   "cell_type": "markdown",
   "metadata": {},
   "source": [
    "# Practice Session 3: Facial Expressions and Emotion Perception"
   ]
  },
  {
   "cell_type": "markdown",
   "metadata": {},
   "source": [
    "Authors:\n",
    "\n",
    "    - Luca Franceschi (u199149)\n",
    "    - Telmo Linacisoro (u198711)\n",
    "\n",
    "# Facial Expressions and Emotion Perception\n",
    "In this notebook we analyze how different are radom annotations from the ones we got as a result of comparing images by similarity to prove that human made annotations provide some genuine insight. We will extract principal components using MDS and reconstruct the circumplex model of affect from it."
   ]
  },
  {
   "cell_type": "code",
   "execution_count": null,
   "metadata": {},
   "outputs": [],
   "source": [
    "def mds():\n",
    "    break"
   ]
  },
  {
   "cell_type": "code",
   "execution_count": null,
   "metadata": {},
   "outputs": [],
   "source": [
    "def display_sim_dissim_matrices():\n",
    "    break"
   ]
  },
  {
   "cell_type": "code",
   "execution_count": null,
   "metadata": {},
   "outputs": [],
   "source": []
  }
 ],
 "metadata": {
  "kernelspec": {
   "display_name": ".venv",
   "language": "python",
   "name": "python3"
  },
  "language_info": {
   "name": "python",
   "version": "3.10.13"
  }
 },
 "nbformat": 4,
 "nbformat_minor": 2
}
