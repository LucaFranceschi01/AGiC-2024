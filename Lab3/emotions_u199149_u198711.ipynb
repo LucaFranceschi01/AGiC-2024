{
 "cells": [
  {
   "cell_type": "markdown",
   "metadata": {},
   "source": [
    "# Practice Session 3: Facial Expressions and Emotion Perception"
   ]
  },
  {
   "cell_type": "markdown",
   "metadata": {},
   "source": [
    "Authors:\n",
    "\n",
    "    - Luca Franceschi (u199149)\n",
    "    - Telmo Linacisoro (u198711)\n",
    "\n",
    "# Facial Expressions and Emotion Perception\n",
    "In this notebook we analyze how different are radom annotations from the ones we got as a result of comparing images by similarity to prove that human made annotations provide some genuine insight. We will extract principal components using MDS and reconstruct the circumplex model of affect from it."
   ]
  },
  {
   "cell_type": "code",
   "execution_count": null,
   "metadata": {},
   "outputs": [],
   "source": [
    "import scipy.io\n",
    "import numpy as np\n",
    "import matplotlib.pyplot as plt\n",
    "import os"
   ]
  },
  {
   "cell_type": "code",
   "execution_count": null,
   "metadata": {},
   "outputs": [],
   "source": [
    "pathToSimScores = './simScores.mat'\n",
    "\n",
    "pathToImages = 'group_2/'"
   ]
  },
  {
   "cell_type": "code",
   "execution_count": null,
   "metadata": {},
   "outputs": [],
   "source": [
    "def load_image_names(path):\n",
    "    names_raw = os.listdir(path)\n",
    "    return [name.split('.')[0] for name in names_raw]"
   ]
  },
  {
   "cell_type": "code",
   "execution_count": null,
   "metadata": {},
   "outputs": [],
   "source": [
    "def load_similarity_scores(path):\n",
    "    simScores = scipy.io.loadmat(path)['simScores'][0][0]\n",
    "    return np.array(simScores[0]), np.array(simScores[1])"
   ]
  },
  {
   "cell_type": "code",
   "execution_count": null,
   "metadata": {},
   "outputs": [],
   "source": [
    "def display_matrix(matrix, title='Matrix', labels=None):\n",
    "    plt.imshow(matrix)\n",
    "    if labels != None:\n",
    "        plt.xticks(range(len(labels)), labels, rotation=90)\n",
    "        plt.yticks(range(len(labels)), labels)\n",
    "    plt.title(title)\n",
    "    plt.colorbar()\n",
    "    plt.show()"
   ]
  },
  {
   "cell_type": "code",
   "execution_count": null,
   "metadata": {},
   "outputs": [],
   "source": [
    "simMat, consMat = load_similarity_scores(pathToSimScores)\n",
    "\n",
    "image_names = load_image_names(pathToImages)"
   ]
  },
  {
   "cell_type": "code",
   "execution_count": null,
   "metadata": {},
   "outputs": [],
   "source": [
    "display_matrix(simMat, 'Similarity Matrix', image_names)\n",
    "display_matrix(consMat, 'Consistency Matrix', image_names)"
   ]
  },
  {
   "cell_type": "code",
   "execution_count": null,
   "metadata": {},
   "outputs": [],
   "source": [
    "def generate_random_matrix():\n",
    "    return"
   ]
  },
  {
   "cell_type": "code",
   "execution_count": null,
   "metadata": {},
   "outputs": [],
   "source": [
    "def get_dissimilarity():\n",
    "    return"
   ]
  },
  {
   "cell_type": "code",
   "execution_count": null,
   "metadata": {},
   "outputs": [],
   "source": [
    "def get_consistency():\n",
    "    return"
   ]
  },
  {
   "cell_type": "code",
   "execution_count": null,
   "metadata": {},
   "outputs": [],
   "source": [
    "def mds():\n",
    "    return"
   ]
  },
  {
   "cell_type": "code",
   "execution_count": null,
   "metadata": {},
   "outputs": [],
   "source": [
    "def display_cma():\n",
    "    return"
   ]
  },
  {
   "cell_type": "markdown",
   "metadata": {},
   "source": [
    "accuracy\n",
    "\n",
    "simm vs consistency nuestra o random"
   ]
  }
 ],
 "metadata": {
  "kernelspec": {
   "display_name": ".venv",
   "language": "python",
   "name": "python3"
  },
  "language_info": {
   "codemirror_mode": {
    "name": "ipython",
    "version": 3
   },
   "file_extension": ".py",
   "mimetype": "text/x-python",
   "name": "python",
   "nbconvert_exporter": "python",
   "pygments_lexer": "ipython3",
   "version": "3.10.13"
  }
 },
 "nbformat": 4,
 "nbformat_minor": 2
}
